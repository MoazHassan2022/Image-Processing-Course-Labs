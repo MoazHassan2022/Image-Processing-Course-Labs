{
 "cells": [
  {
   "cell_type": "markdown",
   "metadata": {},
   "source": [
    "# Lab 2: Convolution & Discrete Fourier Transform"
   ]
  },
  {
   "cell_type": "code",
   "execution_count": 4,
   "metadata": {},
   "outputs": [],
   "source": [
    "import commonfunctions as cf # this a custom module found the commonfunctions.py\n",
    "import skimage.io as io\n",
    "import matplotlib.pyplot as plt\n",
    "import numpy as np\n",
    "from skimage.color import rgb2gray\n",
    "from scipy import fftpack\n",
    "from scipy.signal import convolve2d\n",
    "from skimage.util import random_noise\n",
    "from skimage.exposure import rescale_intensity\n",
    "\n",
    "# Show the matlpotlib figures inside the notebook\n",
    "%matplotlib inline"
   ]
  },
  {
   "cell_type": "markdown",
   "metadata": {},
   "source": [
    "##### Helper functions:\n",
    "cf.show_images(images, titles=None)\n",
    "<br>\n",
    "Given a list of images and -(optionally)- a list of titles, it plots them using matplotlib with their respective titles "
   ]
  },
  {
   "cell_type": "markdown",
   "metadata": {},
   "source": [
    "### Part 1\n",
    "#### Understanding the Concept of Inverse DFT\n",
    "\n",
    "In this part, we will construct matrices in the frequency domain and see how they look in the 2D space domain"
   ]
  },
  {
   "cell_type": "code",
   "execution_count": 5,
   "metadata": {},
   "outputs": [],
   "source": [
    "# This function maps matrices from frequency to space then plots them\n",
    "def plot_image_from_freq(freq_domain_mat):\n",
    "    inverse_fft_mat = fftpack.ifft2(freq_domain_mat) # Inverse FFT is a fast version of inverse DFT\n",
    "    # Due to approximations, the returned matrix contains complex numbers\n",
    "    # So, we get the magnitude to be able to plot the image\n",
    "    image = np.abs(inverse_fft_mat) \n",
    "    cf.show_images([image], titles=['Image in Space Domain'])"
   ]
  },
  {
   "cell_type": "code",
   "execution_count": null,
   "metadata": {},
   "outputs": [],
   "source": []
  },
  {
   "cell_type": "code",
   "execution_count": 6,
   "metadata": {},
   "outputs": [
    {
     "data": {
      "image/png": "[encoded data removed]",
      "text/plain": [
       "<Figure size 432x288 with 1 Axes>"
      ]
     },
     "metadata": {
      "needs_background": "light"
     },
     "output_type": "display_data"
    }
   ],
   "source": [
    "# We will first try to construct a matrix in the frequency domain that makes a vertically moving ripple in the space domain\n",
    "\n",
    "freq_domain_mat = np.zeros([21,21])\n",
    "freq_domain_mat[9, 10] = 1 # The choice of the value '1' is arbitrary\n",
    "freq_domain_mat[11, 10] = 1\n",
    "plot_image_from_freq(freq_domain_mat)"
   ]
  },
  {
   "cell_type": "code",
   "execution_count": null,
   "metadata": {},
   "outputs": [],
   "source": [
    "# TODO: construct a matrix in the frequency domain that makes a HORIZONTALLY moving ripple in the space domain\n",
    "\n",
    "freq_domain_mat = np.zeros([21,21])\n",
    "freq_domain_mat[<TODO>, <TODO>] = 1\n",
    "freq_domain_mat[<TODO>, <TODO>] = 1\n",
    "plot_image_from_freq(freq_domain_mat)"
   ]
  },
  {
   "cell_type": "code",
   "execution_count": null,
   "metadata": {},
   "outputs": [],
   "source": [
    "# Now a ripple moving diagonally\n",
    "freq_domain_mat = np.zeros([21,21])\n",
    "freq_domain_mat[9, 9] = 1\n",
    "freq_domain_mat[11, 11] = 1\n",
    "plot_image_from_freq(freq_domain_mat)"
   ]
  },
  {
   "cell_type": "markdown",
   "metadata": {},
   "source": [
    "We recommend you try to construct different matrices like the previous ones and see if their space domain representation is what you expect"
   ]
  },
  {
   "cell_type": "markdown",
   "metadata": {},
   "source": [
    "### Part 2\n",
    "#### Understanding Image Filtering in the Frequency Domain\n",
    "\n",
    "In this part, we will try to alter an image by multiplying it by a filter in the frequency domain."
   ]
  },
  {
   "cell_type": "code",
   "execution_count": null,
   "metadata": {},
   "outputs": [],
   "source": [
    "# This function applies a filter to an image in the frequency domain\n",
    "# and plots multiple images describing the process\n",
    "def apply_filter_in_freq(img, f):\n",
    "    img_in_freq = fftpack.fft2(img)\n",
    "    \n",
    "    # we supply the img shape here to make both the filter and img have the same shape to be able to multiply\n",
    "    filter_in_freq = fftpack.fft2(f, img.shape)\n",
    "    filtered_img_in_freq = np.multiply(img_in_freq, filter_in_freq)\n",
    "    filtered_img = fftpack.ifft2(filtered_img_in_freq)\n",
    "    \n",
    "    cf.show_images([img,\n",
    "                fftpack.fftshift(np.log(np.abs(img_in_freq)+1)), # log for better intensity scale, \n",
    "                                                                 # shift to make zero freq at center\n",
    "                fftpack.fftshift(np.log(np.abs(filter_in_freq)+1)),\n",
    "                fftpack.fftshift(np.log(np.abs(filtered_img_in_freq)+1)),\n",
    "                np.abs(filtered_img)\n",
    "                ], ['Image', 'Image in Freq. Domain', 'Filter in Freq. Domain', 'Filtered Image in Freq. Domain', 'Filtered Image'])"
   ]
  },
  {
   "cell_type": "code",
   "execution_count": null,
   "metadata": {},
   "outputs": [],
   "source": [
    "# Let's try some filters on a sample image\n",
    "img = rgb2gray(io.imread('imgs/Picture2.png'))\n",
    "\n",
    "# This is a low pass filter (more on that in the upcoming lectures)\n",
    "f=np.array([\n",
    "    [1,2,1],\n",
    "    [2,4,2],\n",
    "    [1,2,1]\n",
    "])\n",
    "\n",
    "apply_filter_in_freq(img, f)"
   ]
  },
  {
   "cell_type": "code",
   "execution_count": null,
   "metadata": {},
   "outputs": [],
   "source": [
    "# This is a high pass filter (more on that in the upcoming lectures)\n",
    "f=np.array([\n",
    "    [ 0,-1, 0],\n",
    "    [-1, 4,-1],\n",
    "    [ 0,-1, 0]\n",
    "])\n",
    "\n",
    "apply_filter_in_freq(img, f)"
   ]
  },
  {
   "cell_type": "markdown",
   "metadata": {},
   "source": [
    "#### TODO\n",
    "What happened to the filtered images in the two previous examples and why?"
   ]
  },
  {
   "cell_type": "code",
   "execution_count": null,
   "metadata": {},
   "outputs": [],
   "source": [
    "cf.show_3d_image_filtering_in_freq(img, f)"
   ]
  },
  {
   "cell_type": "markdown",
   "metadata": {},
   "source": [
    "### Part 3\n",
    "#### Understanding Image Filtering in the Space Domain Through Convolution \n",
    "\n",
    "In this part, you are required to convolve a couple of filters on imgs/bird.jpg which are shown in the next figure.\n",
    "\n",
    "<img src='imgs/filters.PNG'></img>\n",
    "\n",
    "#### Functions you might need:\n",
    "-> convolve2d(img, f), for documentation: <br>\n",
    "\n",
    "Visit this link (https://docs.scipy.org/doc/scipy/reference/generated/scipy.signal.convolve2d.html)\n",
    "<br>\n",
    "Or\n",
    "<br>\n",
    "Press shift+tab after writing 'convolve2d' in a code cell\n",
    "\n",
    "-> random_noise(img, mode) (https://scikit-image.org/docs/dev/api/skimage.util.html#skimage.util.random_noise)"
   ]
  },
  {
   "cell_type": "code",
   "execution_count": null,
   "metadata": {},
   "outputs": [],
   "source": [
    "# TODO: Read an image and convert it to grayscale\n",
    "img = <TODO>\n",
    "\n",
    "# TODO: Apply noise to the image and save it in another variable\n",
    "noisy_img = <TODO>\n",
    "\n",
    "# TODO: Construct the required filters (hint: you can do it as we did in the previous part)\n",
    "f1 = <TODO>\n",
    "\n",
    "f2 = <TODO>\n",
    "\n",
    "f3 = <TODO>\n",
    "                     \n",
    "f4 = <TODO>\n",
    "\n",
    "# TODO: Convolve the noisy image with f1 and the rest of the filters with the original image\n",
    "img_f1 = <TODO>\n",
    "img_f2 = <TODO>\n",
    "img_f3 = <TODO>\n",
    "img_f4 = <TODO>\n",
    "\n",
    "\n",
    "# Show the images\n",
    "cf.show_images([rescale_intensity(x, in_range=(0.0,1.0), out_range=(0, 255)) for x in [img,noisy_img, img_f1,img_f2,img_f3,img_f4]],['Original','Noisy Image', 'Filtered 1','Filtered 2','Filtered 3','Filtered 4'])"
   ]
  }
 ],
 "metadata": {
  "interpreter": {
   "hash": "b44ee1d2ec9a89c7e6535516a054e7798c79fc46caad6b3e65314fe0561eeba4"
  },
  "kernelspec": {
   "display_name": "Python 3 (ipykernel)",
   "language": "python",
   "name": "python3"
  },
  "language_info": {
   "codemirror_mode": {
    "name": "ipython",
    "version": 3
   },
   "file_extension": ".py",
   "mimetype": "text/x-python",
   "name": "python",
   "nbconvert_exporter": "python",
   "pygments_lexer": "ipython3",
   "version": "3.9.7"
  }
 },
 "nbformat": 4,
 "nbformat_minor": 2
}
