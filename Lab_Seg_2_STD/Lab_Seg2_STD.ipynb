{
 "cells": [
  {
   "cell_type": "markdown",
   "metadata": {},
   "source": [
    "# Lab Segmentation 2"
   ]
  },
  {
   "cell_type": "code",
   "execution_count": null,
   "metadata": {},
   "outputs": [],
   "source": [
    "from commonfunctions import *\n",
    "from skimage.exposure import histogram\n",
    "%matplotlib inline\n",
    "%load_ext autoreload\n",
    "%autoreload 2"
   ]
  },
  {
   "cell_type": "code",
   "execution_count": null,
   "metadata": {
    "scrolled": true
   },
   "outputs": [],
   "source": [
    "def getThreshold(img):\n",
    "    #img = (img*255).astype('uint8')\n",
    "    hist, _= histogram(img, nbins=255)\n",
    "    totalNofPixels = sum(hist)\n",
    "    pixelsSum = sum(starmap(mul, enumerate(hist)))\n",
    "    tInit = round(pixelsSum/totalNofPixels)\n",
    "    tPrev = 0\n",
    "    tCurrent = tInit\n",
    "    while tPrev != tCurrent:\n",
    "        tPrev = tCurrent\n",
    "        low = hist[range(0,tPrev+1)]\n",
    "        high = hist[range(tPrev,hist.shape[0]-1)]\n",
    "        lowAvg = sum(starmap(mul, enumerate(low))) / sum(low)\n",
    "        highAvg = sum(starmap(mul, enumerate(high))) / sum(high)\n",
    "        tCurrent = round((lowAvg + highAvg)/2)\n",
    "    return tCurrent\n",
    "images = [\"cameraman.png\", \"book.png\", \"book1.png\", \"cufe.png\"]\n",
    "for img in images:\n",
    "    image = []\n",
    "    if img == \"cameraman.png\" or img == \"book.png\":\n",
    "        image = rgb2gray(io.imread(img))\n",
    "    else:\n",
    "        image = rgb2gray(io.imread(img)[:,:,:3])\n",
    "        image = (image*255).astype('uint8')\n",
    "    thresholded = image > getThreshold(image)\n",
    "    show_images([image, thresholded], [\"Original\", \"Thresholded\"])\n",
    "    "
   ]
  },
  {
   "cell_type": "code",
   "execution_count": null,
   "metadata": {},
   "outputs": [],
   "source": [
    "image = rgb2gray(io.imread(\"book.png\"))\n",
    "x, y = image.shape\n",
    "quarter1 = image[0:x//2,0:y//2]\n",
    "quarter2 = image[0:x//2,y//2:y]\n",
    "quarter3 = image[x//2:x,0:y//2]\n",
    "quarter4 = image[x//2:x,y//2:y]\n",
    "\n",
    "thresholdedQuarter1 = image > getThreshold(quarter1)\n",
    "thresholdedQuarter2 = image > getThreshold(quarter2)\n",
    "thresholdedQuarter3 = image > getThreshold(quarter3)\n",
    "thresholdedQuarter4 = image > getThreshold(quarter4)\n",
    "show_images([image, quarter1], [\"Original\", \"quarter1\"])"
   ]
  }
 ],
 "metadata": {
  "kernelspec": {
   "display_name": "Python 3",
   "language": "python",
   "name": "python3"
  },
  "language_info": {
   "codemirror_mode": {
    "name": "ipython",
    "version": 3
   },
   "file_extension": ".py",
   "mimetype": "text/x-python",
   "name": "python",
   "nbconvert_exporter": "python",
   "pygments_lexer": "ipython3",
   "version": "3.8.8"
  }
 },
 "nbformat": 4,
 "nbformat_minor": 2
}
